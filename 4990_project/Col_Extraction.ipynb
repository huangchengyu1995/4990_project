{
 "cells": [
  {
   "cell_type": "markdown",
   "metadata": {},
   "source": [
    "## This notebook is used to extract num_accident feature for train and test dataset"
   ]
  },
  {
   "cell_type": "code",
   "execution_count": 1,
   "metadata": {},
   "outputs": [],
   "source": [
    "import pandas as pd\n",
    "from datetime import datetime"
   ]
  },
  {
   "cell_type": "markdown",
   "metadata": {},
   "source": [
    "### First build a fuction to extract num_feature"
   ]
  },
  {
   "cell_type": "code",
   "execution_count": 2,
   "metadata": {},
   "outputs": [],
   "source": [
    "#If the data is taken from csv \n",
    "#If data is from bigquery, delect the process datetime\n",
    "def get_accident_count(dat_1, dat_2):\n",
    "    \"\"\"\n",
    "        @param dat_1: [start_lati, start_long, end_lati, end_long, 30min before start_time, start_time]\n",
    "        @param dat_2: # [timestamp, latitude, longitude]\n",
    "        \n",
    "    \"\"\"\n",
    "    list1 = dat_1.values.tolist() # convert dat_1 to list \n",
    "    list2 = dat_2.values.tolist() # convert dat_2 to list\n",
    "    \n",
    "    # Process datetime\n",
    "    for l in list1:\n",
    "        l[4] = datetime.strptime(l[4].split(\"+\")[0], '%Y-%m-%d %H:%M:%S')\n",
    "        l[5] = datetime.strptime(l[5].split(\"+\")[0], '%Y-%m-%d %H:%M:%S')\n",
    "    \n",
    "    for l in list2:\n",
    "        l[0] = datetime.strptime(l[0].split(\"+\")[0], '%Y-%m-%d %H:%M:%S')\n",
    "        \n",
    "    \n",
    "    result = [] # keep final result\n",
    "    wrong_counter = 0 # count exceptions\n",
    "    \n",
    "    for i in range(len(list1)):\n",
    "        l1 = list1[i] # current list\n",
    "        \n",
    "        # Convert timestamp to naive timezone\n",
    "        ts1 = l1[4] # timestamp 1\n",
    "        ts2 = l1[5] # timestamp 2\n",
    "        l1[4] = pd.Timestamp(ts1.year, ts1.month, ts1.day, ts1.hour, ts1.minute, ts1.second)\n",
    "        l1[5] = pd.Timestamp(ts2.year, ts2.month, ts2.day, ts2.hour, ts2.minute, ts2.second)\n",
    "        try:\n",
    "            if (l1[0] >= l1[2]):\n",
    "                start_lat = l1[2]\n",
    "                end_lat = l1[0]\n",
    "            else:\n",
    "                start_lat = l1[0]\n",
    "                end_lat = l1[2]\n",
    "            if (l1[1] >= l1[3]):\n",
    "                start_long = l1[3]\n",
    "                end_long = l1[1]\n",
    "            else:\n",
    "                start_long = l1[1]\n",
    "                end_long = l1[3]\n",
    "            start_time = l1[4]\n",
    "            end_time = l1[5]\n",
    "            counter = 0\n",
    "            # For each list in dat_1, check all lists in dat_2\n",
    "            for j in range(len(list2)):\n",
    "                l2 = list2[j]\n",
    "                if (start_lat <= l2[1] and end_lat >= l2[1] and start_long <= l2[2] and end_long >= l2[2] and start_time <= l2[0] and end_time >= l2[0]):\n",
    "                    counter += 1\n",
    "            result.append(counter)\n",
    "        except:\n",
    "            result.append(-1)\n",
    "            print(\"An exception occured during execution!!!!!\")\n",
    "            wrong_counter += 1\n",
    "            continue\n",
    "    \n",
    "    return result"
   ]
  },
  {
   "cell_type": "markdown",
   "metadata": {},
   "source": [
    "### Extract num_accident for training dataset"
   ]
  },
  {
   "cell_type": "code",
   "execution_count": 3,
   "metadata": {},
   "outputs": [],
   "source": [
    "dat_1 = pd.read_csv(\"C:/Users/weiyao/Desktop/train_dataset_1.csv\")\n",
    "dat_2 = pd.read_csv(\"C:/Users/weiyao/Desktop/train_dataset_2.csv\")\n",
    "dat_1_obj = dat_1[['pickup_latitude', 'pickup_longitude', 'dropoff_latitude', 'dropoff_longitude','30_minute_before_pickup', 'pickup_datetime' ]]\n",
    "dat_2_obj = dat_2[['timestamp','latitude','longitude']]"
   ]
  },
  {
   "cell_type": "code",
   "execution_count": null,
   "metadata": {},
   "outputs": [],
   "source": [
    "import time\n",
    "start = time.time()\n",
    "count_acc = get_accident_count(dat_1_obj, dat_2_obj)\n",
    "end = time.time()\n",
    "print(\"time elapsed {}\".format(end - start))"
   ]
  },
  {
   "cell_type": "code",
   "execution_count": 23,
   "metadata": {},
   "outputs": [],
   "source": [
    "new_col = pd.Series(count_acc)\n",
    "dat_1['num_accident'] = new_col.values"
   ]
  },
  {
   "cell_type": "code",
   "execution_count": 35,
   "metadata": {},
   "outputs": [],
   "source": [
    "dat_1.to_csv('C:/Users/weiyao/Desktop/train_dataset.csv')"
   ]
  },
  {
   "cell_type": "markdown",
   "metadata": {},
   "source": [
    "### Extract num_accident for testing dataset"
   ]
  },
  {
   "cell_type": "code",
   "execution_count": 3,
   "metadata": {},
   "outputs": [],
   "source": [
    "dat_1_test = pd.read_csv(\"C:/Users/weiyao/Desktop/test_dataset_1.csv\")\n",
    "dat_2_test = pd.read_csv(\"C:/Users/weiyao/Desktop/test_dataset_2.csv\")\n",
    "dat_1_test_obj = dat_1_test[['pickup_latitude', 'pickup_longitude', 'dropoff_latitude', 'dropoff_longitude','30_minute_before_pickup', 'pickup_datetime' ]]\n",
    "dat_2_test_obj = dat_2_test[['timestamp','latitude','longitude']]"
   ]
  },
  {
   "cell_type": "code",
   "execution_count": 6,
   "metadata": {},
   "outputs": [
    {
     "name": "stdout",
     "output_type": "stream",
     "text": [
      "time elapsed 22870.629986763\n"
     ]
    }
   ],
   "source": [
    "import time\n",
    "start = time.time()\n",
    "count_acc_test = get_accident_count(dat_1_test_obj, dat_2_test_obj)\n",
    "end = time.time()\n",
    "print(\"time elapsed {}\".format(end - start))"
   ]
  },
  {
   "cell_type": "code",
   "execution_count": 7,
   "metadata": {},
   "outputs": [],
   "source": [
    "new_col_test = pd.Series(count_acc_test)\n",
    "dat_1_test['num_accident'] = new_col_test.values"
   ]
  },
  {
   "cell_type": "code",
   "execution_count": 9,
   "metadata": {},
   "outputs": [],
   "source": [
    "dat_1_test.to_csv('C:/Users/weiyao/Desktop/test_dataset_1111111111.csv')"
   ]
  },
  {
   "cell_type": "code",
   "execution_count": null,
   "metadata": {},
   "outputs": [],
   "source": []
  }
 ],
 "metadata": {
  "kernelspec": {
   "display_name": "Python 3",
   "language": "python",
   "name": "python3"
  },
  "language_info": {
   "codemirror_mode": {
    "name": "ipython",
    "version": 3
   },
   "file_extension": ".py",
   "mimetype": "text/x-python",
   "name": "python",
   "nbconvert_exporter": "python",
   "pygments_lexer": "ipython3",
   "version": "3.6.5"
  }
 },
 "nbformat": 4,
 "nbformat_minor": 2
}
